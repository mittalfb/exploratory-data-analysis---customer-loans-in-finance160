{
 "cells": [
  {
   "cell_type": "code",
   "execution_count": 9,
   "metadata": {},
   "outputs": [
    {
     "ename": "ModuleNotFoundError",
     "evalue": "No module named 'matplotlib'",
     "output_type": "error",
     "traceback": [
      "\u001b[0;31m---------------------------------------------------------------------------\u001b[0m",
      "\u001b[0;31mModuleNotFoundError\u001b[0m                       Traceback (most recent call last)",
      "Cell \u001b[0;32mIn[9], line 2\u001b[0m\n\u001b[1;32m      1\u001b[0m \u001b[38;5;28;01mimport\u001b[39;00m \u001b[38;5;21;01mpandas\u001b[39;00m \u001b[38;5;28;01mas\u001b[39;00m \u001b[38;5;21;01mpd\u001b[39;00m\n\u001b[0;32m----> 2\u001b[0m \u001b[38;5;28;01mfrom\u001b[39;00m \u001b[38;5;21;01mplotter\u001b[39;00m \u001b[38;5;28;01mimport\u001b[39;00m Plotter\n\u001b[1;32m      3\u001b[0m \u001b[38;5;28;01mfrom\u001b[39;00m \u001b[38;5;21;01mdata_frame_transform\u001b[39;00m \u001b[38;5;28;01mimport\u001b[39;00m DataFrameTransform\n\u001b[1;32m      4\u001b[0m \u001b[38;5;28;01mfrom\u001b[39;00m \u001b[38;5;21;01mdata_frame_info\u001b[39;00m \u001b[38;5;28;01mimport\u001b[39;00m DataFrameInfo\n",
      "File \u001b[0;32m~/Documents/GitHub/exploratory-data-analysis---customer-loans-in-finance160/plotter.py:2\u001b[0m\n\u001b[0;32m----> 2\u001b[0m \u001b[38;5;28;01mimport\u001b[39;00m \u001b[38;5;21;01mmatplotlib\u001b[39;00m\u001b[38;5;21;01m.\u001b[39;00m\u001b[38;5;21;01mpyplot\u001b[39;00m \u001b[38;5;28;01mas\u001b[39;00m \u001b[38;5;21;01mplt\u001b[39;00m\n\u001b[1;32m      3\u001b[0m \u001b[38;5;28;01mimport\u001b[39;00m \u001b[38;5;21;01mseaborn\u001b[39;00m \u001b[38;5;28;01mas\u001b[39;00m \u001b[38;5;21;01msns\u001b[39;00m\n\u001b[1;32m      5\u001b[0m \u001b[38;5;28;01mclass\u001b[39;00m \u001b[38;5;21;01mPlotter\u001b[39;00m:\n\u001b[1;32m      6\u001b[0m \n\u001b[1;32m      7\u001b[0m     \u001b[38;5;66;03m#Step 4: Run your NULL checking method/function again to check that all NULLs have been removed. Generate a plot by creating a method in your Plotter class to visualise the removal of NULL values.\u001b[39;00m\n",
      "\u001b[0;31mModuleNotFoundError\u001b[0m: No module named 'matplotlib'"
     ]
    }
   ],
   "source": [
    "import pandas as pd\n",
    "from plotter import Plotter\n",
    "from data_frame_transform import DataFrameTransform\n",
    "from data_frame_info import DataFrameInfo\n",
    "from db_utils import RDSDatabaseConnector\n"
   ]
  },
  {
   "cell_type": "code",
   "execution_count": null,
   "metadata": {},
   "outputs": [],
   "source": []
  },
  {
   "cell_type": "code",
   "execution_count": 2,
   "metadata": {},
   "outputs": [],
   "source": [
    "# Load database credentials\n",
    "credentials_file = \"credentials.yaml\""
   ]
  },
  {
   "cell_type": "code",
   "execution_count": 3,
   "metadata": {},
   "outputs": [
    {
     "ename": "NameError",
     "evalue": "name 'RDSDatabaseConnector' is not defined",
     "output_type": "error",
     "traceback": [
      "\u001b[0;31m---------------------------------------------------------------------------\u001b[0m",
      "\u001b[0;31mNameError\u001b[0m                                 Traceback (most recent call last)",
      "Cell \u001b[0;32mIn[3], line 2\u001b[0m\n\u001b[1;32m      1\u001b[0m \u001b[38;5;66;03m# Initialize RDS Database Connector\u001b[39;00m\n\u001b[0;32m----> 2\u001b[0m db_connector \u001b[38;5;241m=\u001b[39m \u001b[43mRDSDatabaseConnector\u001b[49m(credentials_file)\n",
      "\u001b[0;31mNameError\u001b[0m: name 'RDSDatabaseConnector' is not defined"
     ]
    }
   ],
   "source": [
    "# Initialize RDS Database Connector\n",
    "db_connector = RDSDatabaseConnector(credentials_file)"
   ]
  },
  {
   "cell_type": "code",
   "execution_count": 4,
   "metadata": {},
   "outputs": [],
   "source": [
    "# Define SQL query to extract data\n",
    "query = \"SELECT * FROM loan_payments\""
   ]
  },
  {
   "cell_type": "code",
   "execution_count": 5,
   "metadata": {},
   "outputs": [
    {
     "ename": "NameError",
     "evalue": "name 'db_connector' is not defined",
     "output_type": "error",
     "traceback": [
      "\u001b[0;31m---------------------------------------------------------------------------\u001b[0m",
      "\u001b[0;31mNameError\u001b[0m                                 Traceback (most recent call last)",
      "Cell \u001b[0;32mIn[5], line 2\u001b[0m\n\u001b[1;32m      1\u001b[0m \u001b[38;5;66;03m# Extract data from the database\u001b[39;00m\n\u001b[0;32m----> 2\u001b[0m data_df \u001b[38;5;241m=\u001b[39m \u001b[43mdb_connector\u001b[49m\u001b[38;5;241m.\u001b[39mextract_data_to_dataframe(query)\n",
      "\u001b[0;31mNameError\u001b[0m: name 'db_connector' is not defined"
     ]
    }
   ],
   "source": [
    "# Extract data from the database\n",
    "data_df = db_connector.extract_data_to_dataframe(query)\n"
   ]
  },
  {
   "cell_type": "code",
   "execution_count": 8,
   "metadata": {},
   "outputs": [
    {
     "ename": "NameError",
     "evalue": "name 'DataFrameInfo' is not defined",
     "output_type": "error",
     "traceback": [
      "\u001b[0;31m---------------------------------------------------------------------------\u001b[0m",
      "\u001b[0;31mNameError\u001b[0m                                 Traceback (most recent call last)",
      "Cell \u001b[0;32mIn[8], line 2\u001b[0m\n\u001b[1;32m      1\u001b[0m \u001b[38;5;66;03m# Display basic info about the DataFrame\u001b[39;00m\n\u001b[0;32m----> 2\u001b[0m \u001b[43mDataFrameInfo\u001b[49m\u001b[38;5;241m.\u001b[39mprint_shape(data_df)\n\u001b[1;32m      3\u001b[0m DataFrameInfo\u001b[38;5;241m.\u001b[39mdescribe_columns(data_df)\n",
      "\u001b[0;31mNameError\u001b[0m: name 'DataFrameInfo' is not defined"
     ]
    }
   ],
   "source": [
    "# Display basic info about the DataFrame\n",
    "DataFrameInfo.print_shape(data_df)\n",
    "DataFrameInfo.describe_columns(data_df)"
   ]
  },
  {
   "cell_type": "code",
   "execution_count": null,
   "metadata": {},
   "outputs": [],
   "source": [
    "# Visualize outliers\n",
    "plotter = Plotter()\n",
    "plotter.visualize_outliers(data_df)"
   ]
  },
  {
   "cell_type": "code",
   "execution_count": null,
   "metadata": {},
   "outputs": [],
   "source": [
    "# Remove outliers\n",
    "data_df = DataFrameTransform.remove_outliers(data_df)"
   ]
  },
  {
   "cell_type": "code",
   "execution_count": null,
   "metadata": {},
   "outputs": [],
   "source": [
    "# Visualize skewness\n",
    "skewed_columns = ['age', 'income']\n",
    "plotter.visualize_skewness(data_df, skewed_columns)"
   ]
  },
  {
   "cell_type": "code",
   "execution_count": null,
   "metadata": {},
   "outputs": [],
   "source": [
    "# Transform skewed columns\n",
    "data_df = DataFrameTransform.transform_skewed_columns(data_df, skewed_columns)"
   ]
  },
  {
   "cell_type": "code",
   "execution_count": null,
   "metadata": {},
   "outputs": [],
   "source": [
    "# Visualize correlation matrix\n",
    "correlation_matrix = data_df.corr()\n",
    "plotter.visualize_correlation_matrix(correlation_matrix)"
   ]
  },
  {
   "cell_type": "code",
   "execution_count": null,
   "metadata": {},
   "outputs": [],
   "source": [
    "# Remove highly correlated columns\n",
    "data_df = DataFrameTransform.remove_highly_correlated_columns(data_df)"
   ]
  },
  {
   "cell_type": "code",
   "execution_count": null,
   "metadata": {},
   "outputs": [],
   "source": [
    "# Save preprocessed data to CSV\n",
    "output_csv = \"preprocessed_data.csv\"\n",
    "db_connector.save_data_to_csv(data_df, output_csv)\n"
   ]
  },
  {
   "cell_type": "code",
   "execution_count": null,
   "metadata": {},
   "outputs": [],
   "source": [
    "# Display final DataFrame info\n",
    "DataFrameInfo.print_shape(data_df)\n",
    "DataFrameInfo.describe_columns(data_df)\n",
    "DataFrameInfo.extract_statistical_values(data_df)\n",
    "DataFrameInfo.count_distinct_values(data_df)\n",
    "DataFrameInfo.generate_null_count(data_df)\n",
    "DataFrameInfo.generate_null_percentage(data_df)"
   ]
  }
 ],
 "metadata": {
  "kernelspec": {
   "display_name": "Python 3",
   "language": "python",
   "name": "python3"
  },
  "language_info": {
   "codemirror_mode": {
    "name": "ipython",
    "version": 3
   },
   "file_extension": ".py",
   "mimetype": "text/x-python",
   "name": "python",
   "nbconvert_exporter": "python",
   "pygments_lexer": "ipython3",
   "version": "3.9.6"
  }
 },
 "nbformat": 4,
 "nbformat_minor": 2
}
